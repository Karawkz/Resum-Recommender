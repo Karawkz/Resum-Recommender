{
 "cells": [
  {
   "cell_type": "code",
   "execution_count": 4,
   "metadata": {},
   "outputs": [
    {
     "name": "stderr",
     "output_type": "stream",
     "text": [
      "/anaconda3/lib/python3.6/site-packages/sklearn/ensemble/weight_boosting.py:29: DeprecationWarning: numpy.core.umath_tests is an internal NumPy module and should not be imported. It will be removed in a future NumPy release.\n",
      "  from numpy.core.umath_tests import inner1d\n"
     ]
    }
   ],
   "source": [
    "from pymongo import MongoClient\n",
    "import pandas as pd\n",
    "\n",
    "from sklearn import metrics\n",
    "from sklearn.model_selection import GridSearchCV, train_test_split, learning_curve\n",
    "from sklearn.ensemble import RandomForestClassifier, GradientBoostingClassifier\n",
    "from sklearn.svm import SVC\n",
    "from sklearn.linear_model import LogisticRegression\n",
    "from sklearn.naive_bayes import MultinomialNB\n",
    "from sklearn.metrics import roc_curve, auc, classification_report\n",
    "from sklearn.dummy import DummyClassifier\n",
    "from sklearn.utils import check_X_y\n",
    "from sklearn.preprocessing import StandardScaler\n",
    "from sklearn.metrics import roc_curve, auc\n",
    "import matplotlib.pyplot as plt\n",
    "import pickle\n",
    "\n",
    "import warnings\n",
    "warnings.filterwarnings('ignore')"
   ]
  },
  {
   "cell_type": "markdown",
   "metadata": {},
   "source": [
    "#### Loading the Data"
   ]
  },
  {
   "cell_type": "code",
   "execution_count": null,
   "metadata": {},
   "outputs": [],
   "source": [
    "client = MongoClient()\n",
    "client.list_database_names()"
   ]
  },
  {
   "cell_type": "code",
   "execution_count": null,
   "metadata": {},
   "outputs": [],
   "source": [
    "resumes = client.resumes.w2v\n",
    "resumes.count()"
   ]
  },
  {
   "cell_type": "code",
   "execution_count": null,
   "metadata": {},
   "outputs": [],
   "source": [
    "df = pd.DataFrame(list(resumes.find({'Start Dates':{'$exists': 1}},{'_id': 0})))\n",
    "df.head()"
   ]
  },
  {
   "cell_type": "markdown",
   "metadata": {},
   "source": [
    "#### Categorizing \"Analyst\": 1, \"Scientist\": 2, \"Engineer\": 3"
   ]
  },
  {
   "cell_type": "code",
   "execution_count": null,
   "metadata": {},
   "outputs": [],
   "source": [
    "roles = []\n",
    "def categorize(df):\n",
    "    for y in df['y']:\n",
    "        y = y.replace(\"analyst\",\"1\").replace(\"scientist\",\"2\").replace(\"engineer\",\"3\")\n",
    "        roles.append(y)\n",
    "    df['y'] = roles\n",
    "    return df\n",
    "\n",
    "df = categorize(df)"
   ]
  },
  {
   "cell_type": "markdown",
   "metadata": {},
   "source": [
    "### W2V Model"
   ]
  },
  {
   "cell_type": "code",
   "execution_count": 35,
   "metadata": {},
   "outputs": [],
   "source": [
    "# clean data\n",
    "df = pickle.load(open('W2V_data.pkl', 'rb'))\n",
    "\n",
    "df = df.convert_objects(convert_numeric=True)\n",
    "\n",
    "X = df.drop(columns=['Scientist','Engineer','Analyst','y'])\n",
    "y = df['y']\n",
    "\n",
    "X_train, X_test, y_train, y_test = train_test_split(X, y, test_size=0.25)"
   ]
  },
  {
   "cell_type": "code",
   "execution_count": 38,
   "metadata": {},
   "outputs": [
    {
     "data": {
      "text/html": [
       "<div>\n",
       "<style scoped>\n",
       "    .dataframe tbody tr th:only-of-type {\n",
       "        vertical-align: middle;\n",
       "    }\n",
       "\n",
       "    .dataframe tbody tr th {\n",
       "        vertical-align: top;\n",
       "    }\n",
       "\n",
       "    .dataframe thead th {\n",
       "        text-align: right;\n",
       "    }\n",
       "</style>\n",
       "<table border=\"1\" class=\"dataframe\">\n",
       "  <thead>\n",
       "    <tr style=\"text-align: right;\">\n",
       "      <th></th>\n",
       "      <th>Bachelors</th>\n",
       "      <th>Masters</th>\n",
       "      <th>PhD</th>\n",
       "      <th>Start Dates</th>\n",
       "      <th>0</th>\n",
       "      <th>1</th>\n",
       "      <th>2</th>\n",
       "      <th>3</th>\n",
       "      <th>4</th>\n",
       "      <th>5</th>\n",
       "      <th>...</th>\n",
       "      <th>90</th>\n",
       "      <th>91</th>\n",
       "      <th>92</th>\n",
       "      <th>93</th>\n",
       "      <th>94</th>\n",
       "      <th>95</th>\n",
       "      <th>96</th>\n",
       "      <th>97</th>\n",
       "      <th>98</th>\n",
       "      <th>99</th>\n",
       "    </tr>\n",
       "  </thead>\n",
       "  <tbody>\n",
       "    <tr>\n",
       "      <th>14787</th>\n",
       "      <td>1</td>\n",
       "      <td>0</td>\n",
       "      <td>0</td>\n",
       "      <td>27.0</td>\n",
       "      <td>-0.055711</td>\n",
       "      <td>-0.403599</td>\n",
       "      <td>0.313543</td>\n",
       "      <td>0.181767</td>\n",
       "      <td>-0.427310</td>\n",
       "      <td>0.197010</td>\n",
       "      <td>...</td>\n",
       "      <td>0.361759</td>\n",
       "      <td>-0.215971</td>\n",
       "      <td>-0.188807</td>\n",
       "      <td>-0.902728</td>\n",
       "      <td>-0.100053</td>\n",
       "      <td>-0.391527</td>\n",
       "      <td>-0.509233</td>\n",
       "      <td>0.955836</td>\n",
       "      <td>0.252353</td>\n",
       "      <td>0.172097</td>\n",
       "    </tr>\n",
       "    <tr>\n",
       "      <th>6167</th>\n",
       "      <td>1</td>\n",
       "      <td>3</td>\n",
       "      <td>0</td>\n",
       "      <td>8.0</td>\n",
       "      <td>0.892006</td>\n",
       "      <td>-0.525411</td>\n",
       "      <td>-0.033214</td>\n",
       "      <td>0.167723</td>\n",
       "      <td>0.203309</td>\n",
       "      <td>0.329980</td>\n",
       "      <td>...</td>\n",
       "      <td>-0.020274</td>\n",
       "      <td>0.148613</td>\n",
       "      <td>-0.292893</td>\n",
       "      <td>-0.172215</td>\n",
       "      <td>-0.177787</td>\n",
       "      <td>-0.664932</td>\n",
       "      <td>-0.511434</td>\n",
       "      <td>0.314636</td>\n",
       "      <td>-0.214305</td>\n",
       "      <td>-0.368414</td>\n",
       "    </tr>\n",
       "    <tr>\n",
       "      <th>18099</th>\n",
       "      <td>1</td>\n",
       "      <td>1</td>\n",
       "      <td>0</td>\n",
       "      <td>4.0</td>\n",
       "      <td>0.749063</td>\n",
       "      <td>-0.458793</td>\n",
       "      <td>0.102064</td>\n",
       "      <td>0.098578</td>\n",
       "      <td>-0.584221</td>\n",
       "      <td>0.024375</td>\n",
       "      <td>...</td>\n",
       "      <td>0.441998</td>\n",
       "      <td>-0.241637</td>\n",
       "      <td>0.167389</td>\n",
       "      <td>-0.461004</td>\n",
       "      <td>-0.152522</td>\n",
       "      <td>-0.448428</td>\n",
       "      <td>-0.430003</td>\n",
       "      <td>0.229196</td>\n",
       "      <td>-0.140442</td>\n",
       "      <td>0.091828</td>\n",
       "    </tr>\n",
       "    <tr>\n",
       "      <th>19120</th>\n",
       "      <td>0</td>\n",
       "      <td>0</td>\n",
       "      <td>0</td>\n",
       "      <td>3.0</td>\n",
       "      <td>0.279101</td>\n",
       "      <td>-0.465726</td>\n",
       "      <td>0.302332</td>\n",
       "      <td>0.444643</td>\n",
       "      <td>-0.115447</td>\n",
       "      <td>-0.026083</td>\n",
       "      <td>...</td>\n",
       "      <td>0.305812</td>\n",
       "      <td>-0.049171</td>\n",
       "      <td>-0.656288</td>\n",
       "      <td>-0.586896</td>\n",
       "      <td>-0.115128</td>\n",
       "      <td>-0.537179</td>\n",
       "      <td>-0.434514</td>\n",
       "      <td>0.364723</td>\n",
       "      <td>-0.061841</td>\n",
       "      <td>-0.068892</td>\n",
       "    </tr>\n",
       "    <tr>\n",
       "      <th>5639</th>\n",
       "      <td>0</td>\n",
       "      <td>0</td>\n",
       "      <td>0</td>\n",
       "      <td>8.0</td>\n",
       "      <td>0.435678</td>\n",
       "      <td>-0.542815</td>\n",
       "      <td>0.316228</td>\n",
       "      <td>0.282474</td>\n",
       "      <td>-0.431641</td>\n",
       "      <td>0.236479</td>\n",
       "      <td>...</td>\n",
       "      <td>0.439138</td>\n",
       "      <td>-0.182045</td>\n",
       "      <td>0.006532</td>\n",
       "      <td>-1.011326</td>\n",
       "      <td>-0.103727</td>\n",
       "      <td>-0.448200</td>\n",
       "      <td>-0.361613</td>\n",
       "      <td>0.632105</td>\n",
       "      <td>0.138093</td>\n",
       "      <td>0.524672</td>\n",
       "    </tr>\n",
       "  </tbody>\n",
       "</table>\n",
       "<p>5 rows × 104 columns</p>\n",
       "</div>"
      ],
      "text/plain": [
       "       Bachelors  Masters  PhD  Start Dates         0         1         2  \\\n",
       "14787          1        0    0         27.0 -0.055711 -0.403599  0.313543   \n",
       "6167           1        3    0          8.0  0.892006 -0.525411 -0.033214   \n",
       "18099          1        1    0          4.0  0.749063 -0.458793  0.102064   \n",
       "19120          0        0    0          3.0  0.279101 -0.465726  0.302332   \n",
       "5639           0        0    0          8.0  0.435678 -0.542815  0.316228   \n",
       "\n",
       "              3         4         5    ...           90        91        92  \\\n",
       "14787  0.181767 -0.427310  0.197010    ...     0.361759 -0.215971 -0.188807   \n",
       "6167   0.167723  0.203309  0.329980    ...    -0.020274  0.148613 -0.292893   \n",
       "18099  0.098578 -0.584221  0.024375    ...     0.441998 -0.241637  0.167389   \n",
       "19120  0.444643 -0.115447 -0.026083    ...     0.305812 -0.049171 -0.656288   \n",
       "5639   0.282474 -0.431641  0.236479    ...     0.439138 -0.182045  0.006532   \n",
       "\n",
       "             93        94        95        96        97        98        99  \n",
       "14787 -0.902728 -0.100053 -0.391527 -0.509233  0.955836  0.252353  0.172097  \n",
       "6167  -0.172215 -0.177787 -0.664932 -0.511434  0.314636 -0.214305 -0.368414  \n",
       "18099 -0.461004 -0.152522 -0.448428 -0.430003  0.229196 -0.140442  0.091828  \n",
       "19120 -0.586896 -0.115128 -0.537179 -0.434514  0.364723 -0.061841 -0.068892  \n",
       "5639  -1.011326 -0.103727 -0.448200 -0.361613  0.632105  0.138093  0.524672  \n",
       "\n",
       "[5 rows x 104 columns]"
      ]
     },
     "execution_count": 38,
     "metadata": {},
     "output_type": "execute_result"
    }
   ],
   "source": [
    "X_train.head()"
   ]
  },
  {
   "cell_type": "markdown",
   "metadata": {},
   "source": [
    "#### Impute median values based on education level."
   ]
  },
  {
   "cell_type": "code",
   "execution_count": 39,
   "metadata": {
    "scrolled": true
   },
   "outputs": [
    {
     "data": {
      "text/html": [
       "<div>\n",
       "<style scoped>\n",
       "    .dataframe tbody tr th:only-of-type {\n",
       "        vertical-align: middle;\n",
       "    }\n",
       "\n",
       "    .dataframe tbody tr th {\n",
       "        vertical-align: top;\n",
       "    }\n",
       "\n",
       "    .dataframe thead th {\n",
       "        text-align: right;\n",
       "    }\n",
       "</style>\n",
       "<table border=\"1\" class=\"dataframe\">\n",
       "  <thead>\n",
       "    <tr style=\"text-align: right;\">\n",
       "      <th></th>\n",
       "      <th>Bachelors</th>\n",
       "      <th>Masters</th>\n",
       "      <th>PhD</th>\n",
       "      <th>Start Dates</th>\n",
       "      <th>0</th>\n",
       "      <th>1</th>\n",
       "      <th>2</th>\n",
       "      <th>3</th>\n",
       "      <th>4</th>\n",
       "      <th>5</th>\n",
       "      <th>...</th>\n",
       "      <th>90</th>\n",
       "      <th>91</th>\n",
       "      <th>92</th>\n",
       "      <th>93</th>\n",
       "      <th>94</th>\n",
       "      <th>95</th>\n",
       "      <th>96</th>\n",
       "      <th>97</th>\n",
       "      <th>98</th>\n",
       "      <th>99</th>\n",
       "    </tr>\n",
       "  </thead>\n",
       "  <tbody>\n",
       "    <tr>\n",
       "      <th>0</th>\n",
       "      <td>1</td>\n",
       "      <td>0</td>\n",
       "      <td>0</td>\n",
       "      <td>27.0</td>\n",
       "      <td>-0.055711</td>\n",
       "      <td>-0.403599</td>\n",
       "      <td>0.313543</td>\n",
       "      <td>0.181767</td>\n",
       "      <td>-0.427310</td>\n",
       "      <td>0.197010</td>\n",
       "      <td>...</td>\n",
       "      <td>0.361759</td>\n",
       "      <td>-0.215971</td>\n",
       "      <td>-0.188807</td>\n",
       "      <td>-0.902728</td>\n",
       "      <td>-0.100053</td>\n",
       "      <td>-0.391527</td>\n",
       "      <td>-0.509233</td>\n",
       "      <td>0.955836</td>\n",
       "      <td>0.252353</td>\n",
       "      <td>0.172097</td>\n",
       "    </tr>\n",
       "    <tr>\n",
       "      <th>1</th>\n",
       "      <td>1</td>\n",
       "      <td>3</td>\n",
       "      <td>0</td>\n",
       "      <td>8.0</td>\n",
       "      <td>0.892006</td>\n",
       "      <td>-0.525411</td>\n",
       "      <td>-0.033214</td>\n",
       "      <td>0.167723</td>\n",
       "      <td>0.203309</td>\n",
       "      <td>0.329980</td>\n",
       "      <td>...</td>\n",
       "      <td>-0.020274</td>\n",
       "      <td>0.148613</td>\n",
       "      <td>-0.292893</td>\n",
       "      <td>-0.172215</td>\n",
       "      <td>-0.177787</td>\n",
       "      <td>-0.664932</td>\n",
       "      <td>-0.511434</td>\n",
       "      <td>0.314636</td>\n",
       "      <td>-0.214305</td>\n",
       "      <td>-0.368414</td>\n",
       "    </tr>\n",
       "    <tr>\n",
       "      <th>2</th>\n",
       "      <td>1</td>\n",
       "      <td>1</td>\n",
       "      <td>0</td>\n",
       "      <td>4.0</td>\n",
       "      <td>0.749063</td>\n",
       "      <td>-0.458793</td>\n",
       "      <td>0.102064</td>\n",
       "      <td>0.098578</td>\n",
       "      <td>-0.584221</td>\n",
       "      <td>0.024375</td>\n",
       "      <td>...</td>\n",
       "      <td>0.441998</td>\n",
       "      <td>-0.241637</td>\n",
       "      <td>0.167389</td>\n",
       "      <td>-0.461004</td>\n",
       "      <td>-0.152522</td>\n",
       "      <td>-0.448428</td>\n",
       "      <td>-0.430003</td>\n",
       "      <td>0.229196</td>\n",
       "      <td>-0.140442</td>\n",
       "      <td>0.091828</td>\n",
       "    </tr>\n",
       "    <tr>\n",
       "      <th>3</th>\n",
       "      <td>0</td>\n",
       "      <td>0</td>\n",
       "      <td>0</td>\n",
       "      <td>3.0</td>\n",
       "      <td>0.279101</td>\n",
       "      <td>-0.465726</td>\n",
       "      <td>0.302332</td>\n",
       "      <td>0.444643</td>\n",
       "      <td>-0.115447</td>\n",
       "      <td>-0.026083</td>\n",
       "      <td>...</td>\n",
       "      <td>0.305812</td>\n",
       "      <td>-0.049171</td>\n",
       "      <td>-0.656288</td>\n",
       "      <td>-0.586896</td>\n",
       "      <td>-0.115128</td>\n",
       "      <td>-0.537179</td>\n",
       "      <td>-0.434514</td>\n",
       "      <td>0.364723</td>\n",
       "      <td>-0.061841</td>\n",
       "      <td>-0.068892</td>\n",
       "    </tr>\n",
       "    <tr>\n",
       "      <th>4</th>\n",
       "      <td>0</td>\n",
       "      <td>0</td>\n",
       "      <td>0</td>\n",
       "      <td>8.0</td>\n",
       "      <td>0.435678</td>\n",
       "      <td>-0.542815</td>\n",
       "      <td>0.316228</td>\n",
       "      <td>0.282474</td>\n",
       "      <td>-0.431641</td>\n",
       "      <td>0.236479</td>\n",
       "      <td>...</td>\n",
       "      <td>0.439138</td>\n",
       "      <td>-0.182045</td>\n",
       "      <td>0.006532</td>\n",
       "      <td>-1.011326</td>\n",
       "      <td>-0.103727</td>\n",
       "      <td>-0.448200</td>\n",
       "      <td>-0.361613</td>\n",
       "      <td>0.632105</td>\n",
       "      <td>0.138093</td>\n",
       "      <td>0.524672</td>\n",
       "    </tr>\n",
       "  </tbody>\n",
       "</table>\n",
       "<p>5 rows × 104 columns</p>\n",
       "</div>"
      ],
      "text/plain": [
       "   Bachelors  Masters  PhD  Start Dates         0         1         2  \\\n",
       "0          1        0    0         27.0 -0.055711 -0.403599  0.313543   \n",
       "1          1        3    0          8.0  0.892006 -0.525411 -0.033214   \n",
       "2          1        1    0          4.0  0.749063 -0.458793  0.102064   \n",
       "3          0        0    0          3.0  0.279101 -0.465726  0.302332   \n",
       "4          0        0    0          8.0  0.435678 -0.542815  0.316228   \n",
       "\n",
       "          3         4         5    ...           90        91        92  \\\n",
       "0  0.181767 -0.427310  0.197010    ...     0.361759 -0.215971 -0.188807   \n",
       "1  0.167723  0.203309  0.329980    ...    -0.020274  0.148613 -0.292893   \n",
       "2  0.098578 -0.584221  0.024375    ...     0.441998 -0.241637  0.167389   \n",
       "3  0.444643 -0.115447 -0.026083    ...     0.305812 -0.049171 -0.656288   \n",
       "4  0.282474 -0.431641  0.236479    ...     0.439138 -0.182045  0.006532   \n",
       "\n",
       "         93        94        95        96        97        98        99  \n",
       "0 -0.902728 -0.100053 -0.391527 -0.509233  0.955836  0.252353  0.172097  \n",
       "1 -0.172215 -0.177787 -0.664932 -0.511434  0.314636 -0.214305 -0.368414  \n",
       "2 -0.461004 -0.152522 -0.448428 -0.430003  0.229196 -0.140442  0.091828  \n",
       "3 -0.586896 -0.115128 -0.537179 -0.434514  0.364723 -0.061841 -0.068892  \n",
       "4 -1.011326 -0.103727 -0.448200 -0.361613  0.632105  0.138093  0.524672  \n",
       "\n",
       "[5 rows x 104 columns]"
      ]
     },
     "execution_count": 39,
     "metadata": {},
     "output_type": "execute_result"
    }
   ],
   "source": [
    "exp_fill_series = X_train.groupby(['Bachelors','PhD','Masters'])['Start Dates'].median().reset_index()\n",
    "\n",
    "def impute_exp(X):\n",
    "    merged_frame = pd.merge(X, exp_fill_series, how='left', \n",
    "                             left_on=['Bachelors','PhD','Masters'], \n",
    "                             right_on=['Bachelors','PhD','Masters'])\n",
    "\n",
    "    merged_frame.rename(columns={'Start Dates_x': 'Start Dates', 'Start Dates_y': 'Median Years'}, inplace=True)\n",
    "    # only fill the na values in Start Dates with the Median Years\n",
    "    merged_frame['Start Dates'].fillna(merged_frame['Median Years'], inplace=True)\n",
    "    merged_frame.drop(['Median Years'], axis=1, inplace=True)\n",
    "    return merged_frame\n",
    "\n",
    "X_train_imputed = impute_exp(X_train)\n",
    "# impute values from train not test to make sure the method formula is consistent\n",
    "X_test_imputed = impute_exp(X_test)\n",
    "\n",
    "X_train_imputed.head()"
   ]
  },
  {
   "cell_type": "markdown",
   "metadata": {},
   "source": [
    "#### Standard Scale"
   ]
  },
  {
   "cell_type": "code",
   "execution_count": 10,
   "metadata": {},
   "outputs": [],
   "source": [
    "ssX = StandardScaler()\n",
    "X_train_imputed_scaled = ssX.fit_transform(X_train_imputed)\n",
    "X_test_imputed_scaled = ssX.transform(X_test_imputed)"
   ]
  },
  {
   "cell_type": "markdown",
   "metadata": {},
   "source": [
    "#### Oversampling"
   ]
  },
  {
   "cell_type": "code",
   "execution_count": 11,
   "metadata": {},
   "outputs": [],
   "source": [
    "from imblearn.over_sampling import ADASYN\n",
    "X_tisa, y_ta = ADASYN(random_state=42).fit_sample(X_train_imputed_scaled,y_train)"
   ]
  },
  {
   "cell_type": "markdown",
   "metadata": {},
   "source": [
    "#### Even score should be 1/(number of y)."
   ]
  },
  {
   "cell_type": "code",
   "execution_count": 12,
   "metadata": {},
   "outputs": [
    {
     "data": {
      "text/plain": [
       "0.32750427675346894"
      ]
     },
     "execution_count": 12,
     "metadata": {},
     "output_type": "execute_result"
    }
   ],
   "source": [
    "dummy = DummyClassifier().fit(X_tisa, y_ta)\n",
    "dummy.score(X_test_imputed_scaled,y_test)"
   ]
  },
  {
   "cell_type": "markdown",
   "metadata": {},
   "source": [
    "#### Save transformed data."
   ]
  },
  {
   "cell_type": "code",
   "execution_count": 13,
   "metadata": {},
   "outputs": [],
   "source": [
    "with open('ssX_W2V.pkl','wb') as file:\n",
    "    pickle.dump(ssX,file)"
   ]
  },
  {
   "cell_type": "markdown",
   "metadata": {},
   "source": [
    "#### One of the models I ran on AWS: Support Vector Classifier."
   ]
  },
  {
   "cell_type": "code",
   "execution_count": 14,
   "metadata": {},
   "outputs": [
    {
     "name": "stdout",
     "output_type": "stream",
     "text": [
      "Fitting 5 folds for each of 9 candidates, totalling 45 fits\n",
      "[CV] C=1.5, gamma=0.005, probability=True ............................\n",
      "[CV]  C=1.5, gamma=0.005, probability=True, score=0.8303142901377922, total= 5.4min\n",
      "[CV] C=1.5, gamma=0.005, probability=True ............................\n"
     ]
    },
    {
     "name": "stderr",
     "output_type": "stream",
     "text": [
      "[Parallel(n_jobs=1)]: Done   1 out of   1 | elapsed:  6.1min remaining:    0.0s\n"
     ]
    },
    {
     "name": "stdout",
     "output_type": "stream",
     "text": [
      "[CV]  C=1.5, gamma=0.005, probability=True, score=0.8089191700216786, total= 5.3min\n",
      "[CV] C=1.5, gamma=0.005, probability=True ............................\n"
     ]
    },
    {
     "name": "stderr",
     "output_type": "stream",
     "text": [
      "[Parallel(n_jobs=1)]: Done   2 out of   2 | elapsed: 12.0min remaining:    0.0s\n"
     ]
    },
    {
     "name": "stdout",
     "output_type": "stream",
     "text": [
      "[CV]  C=1.5, gamma=0.005, probability=True, score=0.8025704552493031, total= 5.1min\n",
      "[CV] C=1.5, gamma=0.005, probability=True ............................\n"
     ]
    },
    {
     "name": "stderr",
     "output_type": "stream",
     "text": [
      "[Parallel(n_jobs=1)]: Done   3 out of   3 | elapsed: 17.8min remaining:    0.0s\n"
     ]
    },
    {
     "name": "stdout",
     "output_type": "stream",
     "text": [
      "[CV]  C=1.5, gamma=0.005, probability=True, score=0.7895307418305715, total= 5.3min\n",
      "[CV] C=1.5, gamma=0.005, probability=True ............................\n"
     ]
    },
    {
     "name": "stderr",
     "output_type": "stream",
     "text": [
      "[Parallel(n_jobs=1)]: Done   4 out of   4 | elapsed: 23.7min remaining:    0.0s\n"
     ]
    },
    {
     "name": "stdout",
     "output_type": "stream",
     "text": [
      "[CV]  C=1.5, gamma=0.005, probability=True, score=0.7912343193433483, total= 5.3min\n",
      "[CV] C=1.5, gamma=0.01, probability=True .............................\n"
     ]
    },
    {
     "name": "stderr",
     "output_type": "stream",
     "text": [
      "[Parallel(n_jobs=1)]: Done   5 out of   5 | elapsed: 29.6min remaining:    0.0s\n"
     ]
    },
    {
     "name": "stdout",
     "output_type": "stream",
     "text": [
      "[CV]  C=1.5, gamma=0.01, probability=True, score=0.8718067812354854, total= 5.2min\n",
      "[CV] C=1.5, gamma=0.01, probability=True .............................\n"
     ]
    },
    {
     "name": "stderr",
     "output_type": "stream",
     "text": [
      "[Parallel(n_jobs=1)]: Done   6 out of   6 | elapsed: 35.3min remaining:    0.0s\n"
     ]
    },
    {
     "name": "stdout",
     "output_type": "stream",
     "text": [
      "[CV]  C=1.5, gamma=0.01, probability=True, score=0.8558377206565501, total= 5.1min\n",
      "[CV] C=1.5, gamma=0.01, probability=True .............................\n"
     ]
    },
    {
     "name": "stderr",
     "output_type": "stream",
     "text": [
      "[Parallel(n_jobs=1)]: Done   7 out of   7 | elapsed: 41.1min remaining:    0.0s\n"
     ]
    },
    {
     "name": "stdout",
     "output_type": "stream",
     "text": [
      "[CV]  C=1.5, gamma=0.01, probability=True, score=0.838649736760607, total= 5.1min\n",
      "[CV] C=1.5, gamma=0.01, probability=True .............................\n"
     ]
    },
    {
     "name": "stderr",
     "output_type": "stream",
     "text": [
      "[Parallel(n_jobs=1)]: Done   8 out of   8 | elapsed: 46.8min remaining:    0.0s\n"
     ]
    },
    {
     "name": "stdout",
     "output_type": "stream",
     "text": [
      "[CV]  C=1.5, gamma=0.01, probability=True, score=0.8347529812606473, total= 5.0min\n",
      "[CV] C=1.5, gamma=0.01, probability=True .............................\n"
     ]
    },
    {
     "name": "stderr",
     "output_type": "stream",
     "text": [
      "[Parallel(n_jobs=1)]: Done   9 out of   9 | elapsed: 52.4min remaining:    0.0s\n"
     ]
    },
    {
     "name": "stdout",
     "output_type": "stream",
     "text": [
      "[CV]  C=1.5, gamma=0.01, probability=True, score=0.8350627226266067, total= 5.0min\n",
      "[CV] C=1.5, gamma=0.015, probability=True ............................\n"
     ]
    },
    {
     "name": "stderr",
     "output_type": "stream",
     "text": [
      "[Parallel(n_jobs=1)]: Done  10 out of  10 | elapsed: 58.0min remaining:    0.0s\n"
     ]
    },
    {
     "name": "stdout",
     "output_type": "stream",
     "text": [
      "[CV]  C=1.5, gamma=0.015, probability=True, score=0.9007586313670847, total= 5.0min\n",
      "[CV] C=1.5, gamma=0.015, probability=True ............................\n"
     ]
    },
    {
     "name": "stderr",
     "output_type": "stream",
     "text": [
      "[Parallel(n_jobs=1)]: Done  11 out of  11 | elapsed: 63.6min remaining:    0.0s\n"
     ]
    },
    {
     "name": "stdout",
     "output_type": "stream",
     "text": [
      "[CV]  C=1.5, gamma=0.015, probability=True, score=0.8849489005884175, total= 5.2min\n",
      "[CV] C=1.5, gamma=0.015, probability=True ............................\n"
     ]
    },
    {
     "name": "stderr",
     "output_type": "stream",
     "text": [
      "[Parallel(n_jobs=1)]: Done  12 out of  12 | elapsed: 69.4min remaining:    0.0s\n"
     ]
    },
    {
     "name": "stdout",
     "output_type": "stream",
     "text": [
      "[CV]  C=1.5, gamma=0.015, probability=True, score=0.8710126974295448, total= 5.2min\n",
      "[CV] C=1.5, gamma=0.015, probability=True ............................\n"
     ]
    },
    {
     "name": "stderr",
     "output_type": "stream",
     "text": [
      "[Parallel(n_jobs=1)]: Done  13 out of  13 | elapsed: 75.3min remaining:    0.0s\n"
     ]
    },
    {
     "name": "stdout",
     "output_type": "stream",
     "text": [
      "[CV]  C=1.5, gamma=0.015, probability=True, score=0.8640235403438129, total= 5.1min\n",
      "[CV] C=1.5, gamma=0.015, probability=True ............................\n"
     ]
    },
    {
     "name": "stderr",
     "output_type": "stream",
     "text": [
      "[Parallel(n_jobs=1)]: Done  14 out of  14 | elapsed: 80.9min remaining:    0.0s\n"
     ]
    },
    {
     "name": "stdout",
     "output_type": "stream",
     "text": [
      "[CV]  C=1.5, gamma=0.015, probability=True, score=0.8661917299055288, total= 5.2min\n",
      "[CV] C=2.0, gamma=0.005, probability=True ............................\n"
     ]
    },
    {
     "name": "stderr",
     "output_type": "stream",
     "text": [
      "[Parallel(n_jobs=1)]: Done  15 out of  15 | elapsed: 86.7min remaining:    0.0s\n"
     ]
    },
    {
     "name": "stdout",
     "output_type": "stream",
     "text": [
      "[CV]  C=2.0, gamma=0.005, probability=True, score=0.8388295401764979, total= 5.0min\n",
      "[CV] C=2.0, gamma=0.005, probability=True ............................\n"
     ]
    },
    {
     "name": "stderr",
     "output_type": "stream",
     "text": [
      "[Parallel(n_jobs=1)]: Done  16 out of  16 | elapsed: 92.4min remaining:    0.0s\n"
     ]
    },
    {
     "name": "stdout",
     "output_type": "stream",
     "text": [
      "[CV]  C=2.0, gamma=0.005, probability=True, score=0.8203778259523072, total= 5.1min\n",
      "[CV] C=2.0, gamma=0.005, probability=True ............................\n"
     ]
    },
    {
     "name": "stderr",
     "output_type": "stream",
     "text": [
      "[Parallel(n_jobs=1)]: Done  17 out of  17 | elapsed: 98.1min remaining:    0.0s\n"
     ]
    },
    {
     "name": "stdout",
     "output_type": "stream",
     "text": [
      "[CV]  C=2.0, gamma=0.005, probability=True, score=0.8086094766181481, total= 5.4min\n",
      "[CV] C=2.0, gamma=0.005, probability=True ............................\n"
     ]
    },
    {
     "name": "stderr",
     "output_type": "stream",
     "text": [
      "[Parallel(n_jobs=1)]: Done  18 out of  18 | elapsed: 104.1min remaining:    0.0s\n"
     ]
    },
    {
     "name": "stdout",
     "output_type": "stream",
     "text": [
      "[CV]  C=2.0, gamma=0.005, probability=True, score=0.7997522069072325, total= 4.8min\n",
      "[CV] C=2.0, gamma=0.005, probability=True ............................\n"
     ]
    },
    {
     "name": "stderr",
     "output_type": "stream",
     "text": [
      "[Parallel(n_jobs=1)]: Done  19 out of  19 | elapsed: 109.5min remaining:    0.0s\n"
     ]
    },
    {
     "name": "stdout",
     "output_type": "stream",
     "text": [
      "[CV]  C=2.0, gamma=0.005, probability=True, score=0.8045531980796036, total= 5.3min\n",
      "[CV] C=2.0, gamma=0.01, probability=True .............................\n",
      "[CV]  C=2.0, gamma=0.01, probability=True, score=0.880631676730144, total= 5.2min\n",
      "[CV] C=2.0, gamma=0.01, probability=True .............................\n",
      "[CV]  C=2.0, gamma=0.01, probability=True, score=0.8663672963765872, total= 5.0min\n",
      "[CV] C=2.0, gamma=0.01, probability=True .............................\n",
      "[CV]  C=2.0, gamma=0.01, probability=True, score=0.8491793124806442, total= 5.4min\n",
      "[CV] C=2.0, gamma=0.01, probability=True .............................\n",
      "[CV]  C=2.0, gamma=0.01, probability=True, score=0.8431159981415518, total= 5.2min\n",
      "[CV] C=2.0, gamma=0.01, probability=True .............................\n",
      "[CV]  C=2.0, gamma=0.01, probability=True, score=0.8482267306798823, total= 5.1min\n",
      "[CV] C=2.0, gamma=0.015, probability=True ............................\n",
      "[CV]  C=2.0, gamma=0.015, probability=True, score=0.9088094132218609, total= 4.9min\n",
      "[CV] C=2.0, gamma=0.015, probability=True ............................\n",
      "[CV]  C=2.0, gamma=0.015, probability=True, score=0.8954784763084547, total= 5.0min\n",
      "[CV] C=2.0, gamma=0.015, probability=True ............................\n",
      "[CV]  C=2.0, gamma=0.015, probability=True, score=0.8841746670795912, total= 5.1min\n",
      "[CV] C=2.0, gamma=0.015, probability=True ............................\n",
      "[CV]  C=2.0, gamma=0.015, probability=True, score=0.8799752206907232, total= 5.2min\n",
      "[CV] C=2.0, gamma=0.015, probability=True ............................\n",
      "[CV]  C=2.0, gamma=0.015, probability=True, score=0.8841567291311755, total= 5.3min\n",
      "[CV] C=2.5, gamma=0.005, probability=True ............................\n",
      "[CV]  C=2.5, gamma=0.005, probability=True, score=0.8425452856479331, total= 5.1min\n",
      "[CV] C=2.5, gamma=0.005, probability=True ............................\n",
      "[CV]  C=2.5, gamma=0.005, probability=True, score=0.8271910808299783, total= 5.2min\n",
      "[CV] C=2.5, gamma=0.005, probability=True ............................\n",
      "[CV]  C=2.5, gamma=0.005, probability=True, score=0.8160421183028802, total= 5.0min\n",
      "[CV] C=2.5, gamma=0.005, probability=True ............................\n",
      "[CV]  C=2.5, gamma=0.005, probability=True, score=0.8068762583242992, total= 5.3min\n",
      "[CV] C=2.5, gamma=0.005, probability=True ............................\n",
      "[CV]  C=2.5, gamma=0.005, probability=True, score=0.8102834133498529, total= 5.2min\n",
      "[CV] C=2.5, gamma=0.01, probability=True .............................\n",
      "[CV]  C=2.5, gamma=0.01, probability=True, score=0.8862052949372968, total= 4.9min\n",
      "[CV] C=2.5, gamma=0.01, probability=True .............................\n",
      "[CV]  C=2.5, gamma=0.01, probability=True, score=0.8751935583772066, total= 4.9min\n",
      "[CV] C=2.5, gamma=0.01, probability=True .............................\n",
      "[CV]  C=2.5, gamma=0.01, probability=True, score=0.8593991947971508, total= 4.9min\n",
      "[CV] C=2.5, gamma=0.01, probability=True .............................\n",
      "[CV]  C=2.5, gamma=0.01, probability=True, score=0.8533374632182128, total= 4.9min\n",
      "[CV] C=2.5, gamma=0.01, probability=True .............................\n",
      "[CV]  C=2.5, gamma=0.01, probability=True, score=0.8589128078054824, total= 4.9min\n",
      "[CV] C=2.5, gamma=0.015, probability=True ............................\n",
      "[CV]  C=2.5, gamma=0.015, probability=True, score=0.9145378541569903, total= 4.7min\n",
      "[CV] C=2.5, gamma=0.015, probability=True ............................\n",
      "[CV]  C=2.5, gamma=0.015, probability=True, score=0.9067822855373181, total= 5.0min\n",
      "[CV] C=2.5, gamma=0.015, probability=True ............................\n",
      "[CV]  C=2.5, gamma=0.015, probability=True, score=0.8945493960978631, total= 5.0min\n",
      "[CV] C=2.5, gamma=0.015, probability=True ............................\n",
      "[CV]  C=2.5, gamma=0.015, probability=True, score=0.891900263280161, total= 5.0min\n",
      "[CV] C=2.5, gamma=0.015, probability=True ............................\n",
      "[CV]  C=2.5, gamma=0.015, probability=True, score=0.8937587114759176, total= 4.9min\n"
     ]
    },
    {
     "name": "stderr",
     "output_type": "stream",
     "text": [
      "[Parallel(n_jobs=1)]: Done  45 out of  45 | elapsed: 256.6min finished\n"
     ]
    },
    {
     "data": {
      "text/plain": [
       "GridSearchCV(cv=5, error_score='raise',\n",
       "       estimator=SVC(C=1.0, cache_size=200, class_weight=None, coef0=0.0,\n",
       "  decision_function_shape='ovr', degree=3, gamma='auto', kernel='rbf',\n",
       "  max_iter=-1, probability=False, random_state=None, shrinking=True,\n",
       "  tol=0.001, verbose=False),\n",
       "       fit_params=None, iid=True, n_jobs=1,\n",
       "       param_grid={'C': [1.5, 2.0, 2.5], 'gamma': [0.005, 0.01, 0.015], 'probability': [True]},\n",
       "       pre_dispatch='2*n_jobs', refit=True, return_train_score='warn',\n",
       "       scoring='accuracy', verbose=20)"
      ]
     },
     "execution_count": 14,
     "metadata": {},
     "output_type": "execute_result"
    }
   ],
   "source": [
    "SVC_model = SVC()\n",
    "\n",
    "params = {\n",
    "    'C' : [1.5, 2.0, 2.5],\n",
    "    'gamma' : [0.005, 0.01, 0.015],\n",
    "    'probability': [True]\n",
    "}\n",
    "\n",
    "gridSVC = GridSearchCV(SVC_model, param_grid=params, cv=5, scoring='accuracy',verbose=20)\n",
    "gridSVC.fit(X_tisa, y_ta)"
   ]
  },
  {
   "cell_type": "code",
   "execution_count": 15,
   "metadata": {},
   "outputs": [
    {
     "data": {
      "text/plain": [
       "{'C': 2.5, 'gamma': 0.015, 'probability': True}"
      ]
     },
     "execution_count": 15,
     "metadata": {},
     "output_type": "execute_result"
    }
   ],
   "source": [
    "gridSVC.best_params_"
   ]
  },
  {
   "cell_type": "code",
   "execution_count": 16,
   "metadata": {
    "scrolled": true
   },
   "outputs": [
    {
     "data": {
      "text/plain": [
       "0.9003066059648797"
      ]
     },
     "execution_count": 16,
     "metadata": {},
     "output_type": "execute_result"
    }
   ],
   "source": [
    "gridSVC.best_score_"
   ]
  },
  {
   "cell_type": "markdown",
   "metadata": {},
   "source": [
    "#### Plot learning curve to assess whether overfitting:"
   ]
  },
  {
   "cell_type": "code",
   "execution_count": null,
   "metadata": {},
   "outputs": [],
   "source": [
    "train_sizes, train_scores, test_scores = learning_curve(gridSVC, sampled_train_X, sampled_train_y, cv = 5)\n",
    "ave_train_scores = train_scores.mean(axis=1)\n",
    "ave_test_scores = test_scores.mean(axis=1)\n",
    "\n",
    "learn_df = pd.DataFrame({\n",
    "    'train_size': train_sizes,\n",
    "    'train_score': ave_train_scores,\n",
    "    'test_score': ave_test_scores\n",
    "})\n",
    "\n",
    "plt.plot(learn_df['train_size'], learn_df['train_score'], 'r--o', label='train scores')\n",
    "plt.plot(learn_df['train_size'], learn_df['test_score'], 'b--x', label='test size')\n",
    "plt.legend(loc='lower right')\n",
    "plt.ylim(0.5,1)\n",
    "\n",
    "plt.show()"
   ]
  },
  {
   "cell_type": "markdown",
   "metadata": {},
   "source": [
    "#### Save transformed data and model."
   ]
  },
  {
   "cell_type": "code",
   "execution_count": 13,
   "metadata": {},
   "outputs": [],
   "source": [
    "with open('ssX_W2V.pkl','wb') as file:\n",
    "    pickle.dump(ssX,file)\n",
    "with open('gridSVC_w2v.pkl','wb') as file:\n",
    "    pickle.dump(gridSVC,file)"
   ]
  }
 ],
 "metadata": {
  "kernelspec": {
   "display_name": "Python 3",
   "language": "python",
   "name": "python3"
  },
  "language_info": {
   "codemirror_mode": {
    "name": "ipython",
    "version": 3
   },
   "file_extension": ".py",
   "mimetype": "text/x-python",
   "name": "python",
   "nbconvert_exporter": "python",
   "pygments_lexer": "ipython3",
   "version": "3.6.3"
  },
  "latex_envs": {
   "LaTeX_envs_menu_present": true,
   "autoclose": false,
   "autocomplete": true,
   "bibliofile": "biblio.bib",
   "cite_by": "apalike",
   "current_citInitial": 1,
   "eqLabelWithNumbers": true,
   "eqNumInitial": 1,
   "hotkeys": {
    "equation": "Ctrl-E",
    "itemize": "Ctrl-I"
   },
   "labels_anchors": false,
   "latex_user_defs": false,
   "report_style_numbering": false,
   "user_envs_cfg": false
  }
 },
 "nbformat": 4,
 "nbformat_minor": 2
}
